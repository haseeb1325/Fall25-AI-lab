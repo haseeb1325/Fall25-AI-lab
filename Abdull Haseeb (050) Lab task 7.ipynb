{
 "cells": [
  {
   "cell_type": "code",
   "execution_count": 7,
   "id": "8ae62d2f",
   "metadata": {},
   "outputs": [
    {
     "name": "stdout",
     "output_type": "stream",
     "text": [
      "Path found by A*: [(0, 0), (0, 1), (0, 2), (0, 3), (0, 4), (1, 4), (2, 4), (3, 4), (4, 4)]\n"
     ]
    }
   ],
   "source": [
    "\n",
    "class Node:\n",
    "    def __init__(self, parent=None, position=None):\n",
    "        self.parent = parent\n",
    "        self.position = position\n",
    "        self.g = 0 \n",
    "        self.h = 0 \n",
    "        self.f = 0  \n",
    "\n",
    "    def __eq__(self, other):\n",
    "        return self.position == other.position\n",
    "\n",
    "\n",
    "def astar(maze, start, end):\n",
    "    open_list = []\n",
    "    closed_list = []\n",
    "    counter = itertools.count()  \n",
    "\n",
    "    start_node = Node(None, start)\n",
    "    end_node = Node(None, end)\n",
    "\n",
    "    heappush(open_list, (start_node.f, next(counter), start_node))\n",
    "\n",
    "    while open_list:\n",
    "        current_node = heappop(open_list)[2]\n",
    "        closed_list.append(current_node)\n",
    "\n",
    "        if current_node == end_node:\n",
    "            path = []\n",
    "            node = current_node\n",
    "            while node is not None:\n",
    "                path.append(node.position)\n",
    "                node = node.parent\n",
    "            return path[::-1] \n",
    "        \n",
    "        for new_position in [(0, -1), (0, 1), (-1, 0), (1, 0)]:\n",
    "            node_position = (current_node.position[0] + new_position[0],\n",
    "                             current_node.position[1] + new_position[1])\n",
    "\n",
    "            if (node_position[0] < 0 or node_position[0] >= len(maze) or\n",
    "                node_position[1] < 0 or node_position[1] >= len(maze[0])):\n",
    "                continue\n",
    "\n",
    "            if maze[node_position[0]][node_position[1]] != 0:\n",
    "                continue\n",
    "\n",
    "            child = Node(current_node, node_position)\n",
    "\n",
    "            if child in closed_list:\n",
    "                continue\n",
    " \n",
    "            child.g = current_node.g + 1\n",
    "            child.h = math.sqrt((child.position[0] - end_node.position[0])**2 +\n",
    "                                (child.position[1] - end_node.position[1])**2)\n",
    "            child.f = child.g + child.h\n",
    "\n",
    "            if any(child == open_node[2] and child.f >= open_node[2].f for open_node in open_list):\n",
    "                continue\n",
    "\n",
    "            heappush(open_list, (child.f, next(counter), child))\n",
    "\n",
    "    return None  \n",
    "maze = [\n",
    "    [0, 0, 0, 0, 0],\n",
    "    [0, 1, 1, 1, 0],\n",
    "    [0, 1, 0, 0, 0],\n",
    "    [0, 1, 0, 1, 0],\n",
    "    [0, 0, 0, 1, 0]\n",
    "]\n",
    "\n",
    "start = (0, 0)\n",
    "end = (4, 4)\n",
    "\n",
    "path = astar(maze, start, end)\n",
    "print(\"Path found by A*:\", path)\n"
   ]
  }
 ],
 "metadata": {
  "kernelspec": {
   "display_name": "base",
   "language": "python",
   "name": "python3"
  },
  "language_info": {
   "codemirror_mode": {
    "name": "ipython",
    "version": 3
   },
   "file_extension": ".py",
   "mimetype": "text/x-python",
   "name": "python",
   "nbconvert_exporter": "python",
   "pygments_lexer": "ipython3",
   "version": "3.12.4"
  }
 },
 "nbformat": 4,
 "nbformat_minor": 5
}
