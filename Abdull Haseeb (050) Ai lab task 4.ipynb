{
 "cells": [
  {
   "cell_type": "markdown",
   "id": "da25c0bb-134b-45fb-bee1-db1720dbb66d",
   "metadata": {},
   "source": [
    "## ¬@Task 1(LUHN Algorithm)"
   ]
  },
  {
   "cell_type": "code",
   "execution_count": 5,
   "id": "71ca87d2-acc6-422e-bcd7-54bc6ac1d4f2",
   "metadata": {},
   "outputs": [
    {
     "name": "stdout",
     "output_type": "stream",
     "text": [
      "Invalid\n"
     ]
    }
   ],
   "source": [
    "Sum_odd_numbers = 0\n",
    "Sum_even_numbers = 0\n",
    "total = 0\n",
    "\n",
    "card_number = input(\"Enter your Debit card number: \")\n",
    "card_number = card_number.replace(\"-\", \"\")\n",
    "card_number = card_number.replace(\" \", \"\")\n",
    "card_number = card_number[::-1]\n",
    "\n",
    "for i in card_number[::2]:\n",
    "    Sum_odd_numbers += int(i)\n",
    "\n",
    "for i in card_number[1::2]:\n",
    "    i = int(i) * 2\n",
    "    \n",
    "    if i >= 10:\n",
    "        Sum_even_numbers += (1 + (i % 10))\n",
    "    else:\n",
    "        Sum_even_numbers += i\n",
    "\n",
    "total = Sum_odd_numbers + Sum_even_numbers\n",
    "if total % 10 == 0:\n",
    "    print(\"Valid\")\n",
    "else:\n",
    "    print(\"Invalid\")"
   ]
  },
  {
   "cell_type": "markdown",
   "id": "31658844-4b14-47ed-b945-38e30813fce7",
   "metadata": {},
   "source": [
    "## ¬@Task 2"
   ]
  },
  {
   "cell_type": "code",
   "execution_count": 3,
   "id": "0b5b3413-7bd6-4687-be53-d06a54a2ce61",
   "metadata": {},
   "outputs": [
    {
     "name": "stdout",
     "output_type": "stream",
     "text": [
      "i  am Haseeb and study in superior university lahore\n"
     ]
    }
   ],
   "source": [
    "Punctuations = \"\"\",./?:;<>''@~#{}[]+=_-()*&^%$£\"!¬`\\|\"\"\"\n",
    "String = input(\"Enter any sentence or word here: \")\n",
    "Empty_string = \"\"\n",
    "for i in String:\n",
    "    if i not in Punctuations:\n",
    "        Empty_string += i\n",
    "\n",
    "print(Empty_string)"
   ]
  },
  {
   "cell_type": "markdown",
   "id": "f03ded67-e52b-4441-be07-8ed9598fd3b5",
   "metadata": {},
   "source": [
    "## ¬@Task 3"
   ]
  },
  {
   "cell_type": "code",
   "execution_count": 4,
   "id": "acf07c34-4df0-47c3-b136-e3175ec4632b",
   "metadata": {},
   "outputs": [
    {
     "name": "stdout",
     "output_type": "stream",
     "text": [
      "Sorted words: ['Haseeb', 'I', 'am']\n"
     ]
    }
   ],
   "source": [
    "def Ascii_sorting(words):\n",
    "    for i in range(len(words)):\n",
    "        for j in range(len(words) - i - 1):\n",
    "            if words[j] > words[j + 1]: \n",
    "                words[j], words[j + 1] = words[j + 1], words[j]\n",
    "    return words\n",
    "\n",
    "Sentence = input(\"Enter a sentence: \")\n",
    "List_of_words = Sentence.split() \n",
    "\n",
    "Sorted_words = Ascii_sorting(List_of_words)\n",
    "\n",
    "print(\"Sorted words:\",Sorted_words)"
   ]
  }
 ],
 "metadata": {
  "kernelspec": {
   "display_name": "Python 3",
   "language": "python",
   "name": "python3"
  },
  "language_info": {
   "codemirror_mode": {
    "name": "ipython",
    "version": 3
   },
   "file_extension": ".py",
   "mimetype": "text/x-python",
   "name": "python",
   "nbconvert_exporter": "python",
   "pygments_lexer": "ipython3",
   "version": "3.11.9"
  }
 },
 "nbformat": 4,
 "nbformat_minor": 5
}
