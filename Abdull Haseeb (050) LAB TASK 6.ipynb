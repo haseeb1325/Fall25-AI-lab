{
 "cells": [
  {
   "cell_type": "markdown",
   "id": "b35dc20b",
   "metadata": {},
   "source": [
    "### QUESTION NO 1 ###"
   ]
  },
  {
   "cell_type": "code",
   "execution_count": 6,
   "id": "418d0a50",
   "metadata": {},
   "outputs": [
    {
     "name": "stdout",
     "output_type": "stream",
     "text": [
      "BFS Traversal: ['A', 'B', 'C', 'D', 'E', 'F']\n"
     ]
    }
   ],
   "source": [
    "def bfs_without_queue(graph, start):\n",
    "    visited = set([start])\n",
    "    result = []\n",
    "    bfs_list = [start] \n",
    "    index = 0\n",
    "    while index < len(bfs_list):\n",
    "        node = bfs_list[index]\n",
    "        result.append(node)\n",
    "\n",
    "        for neighbor in graph[node]:\n",
    "            if neighbor not in visited:\n",
    "                visited.add(neighbor)\n",
    "                bfs_list.append(neighbor)\n",
    "\n",
    "        index += 1\n",
    "\n",
    "    return result\n",
    "graph = {\n",
    "    'A': ['B', 'C'],\n",
    "    'B': ['D', 'E'],\n",
    "    'C': ['F'],\n",
    "    'D': [],\n",
    "    'E': ['F'],\n",
    "    'F': []\n",
    "}\n",
    "\n",
    "print(\"BFS Traversal:\", bfs_without_queue(graph, 'A'))\n"
   ]
  },
  {
   "cell_type": "markdown",
   "id": "f4b9eeb2",
   "metadata": {},
   "source": [
    "### QUESTION NO 2 ###"
   ]
  },
  {
   "cell_type": "code",
   "execution_count": 4,
   "id": "00ca3243",
   "metadata": {},
   "outputs": [
    {
     "name": "stdout",
     "output_type": "stream",
     "text": [
      "A B C D E F "
     ]
    }
   ],
   "source": [
    "\n",
    "def bfs(graph, start):\n",
    "    visited = set()           \n",
    "    queue = deque([start])     \n",
    "    while queue:\n",
    "        node = queue.popleft()\n",
    "        if node not in visited:\n",
    "            print(node, end=\" \")   \n",
    "            visited.add(node)    \n",
    "\n",
    "            for neighbor in graph[node]:\n",
    "                if neighbor not in visited:\n",
    "                    queue.append(neighbor)\n",
    "graph = {\n",
    "    'A': ['B', 'C'],\n",
    "    'B': ['D', 'E'],\n",
    "    'C': ['F'],\n",
    "    'D': [],\n",
    "    'E': ['F'],\n",
    "    'F': []\n",
    "}\n",
    "bfs(graph, 'A')\n"
   ]
  }
 ],
 "metadata": {
  "kernelspec": {
   "display_name": "Python 3",
   "language": "python",
   "name": "python3"
  },
  "language_info": {
   "codemirror_mode": {
    "name": "ipython",
    "version": 3
   },
   "file_extension": ".py",
   "mimetype": "text/x-python",
   "name": "python",
   "nbconvert_exporter": "python",
   "pygments_lexer": "ipython3",
   "version": "3.11.9"
  }
 },
 "nbformat": 4,
 "nbformat_minor": 5
}
