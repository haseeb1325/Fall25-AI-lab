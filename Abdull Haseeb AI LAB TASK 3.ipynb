{
 "cells": [
  {
   "cell_type": "code",
   "execution_count": 1,
   "id": "ba6ec69c",
   "metadata": {},
   "outputs": [
    {
     "name": "stdout",
     "output_type": "stream",
     "text": [
      "Living Room: Current temperature = 18°C. (From Memory) Turn on heater.\n",
      "Bedroom: Current temperature = 22°C. (From Memory) Turn off heater.\n",
      "Kitchen: Current temperature = 20°C. (From Memory) Turn on heater.\n",
      "Bathroom: Current temperature = 24°C. (From Memory) Turn off heater.\n",
      "Garage: Current temperature = 18°C. (From Memory) Turn on heater.\n"
     ]
    }
   ],
   "source": [
    "import os\n",
    "\n",
    "class ModelBasedReflexAgent:\n",
    "    def __init__(self, desired_temperature, memory_file=\"memory.txt\"):\n",
    "        self.desired_temperature = desired_temperature\n",
    "        self.memory_file = memory_file\n",
    "        # Create the memory file if it doesn't exist\n",
    "        if not os.path.exists(self.memory_file):\n",
    "            with open(self.memory_file, \"w\") as f:\n",
    "                f.write(\"Temperature,Action\\n\")\n",
    "\n",
    "    def check_memory(self, current_temperature):\n",
    "        \"\"\"Check if the temperature already exists in memory\"\"\"\n",
    "        with open(self.memory_file, \"r\") as f:\n",
    "            lines = f.readlines()[1:]  # skip header\n",
    "            for line in lines:\n",
    "                temp, action = line.strip().split(\",\")\n",
    "                if int(temp) == current_temperature:\n",
    "                    return action  # found in memory\n",
    "        return None  # not found\n",
    "\n",
    "    def update_memory(self, current_temperature, action):\n",
    "        \"\"\"Save new scenario in memory\"\"\"\n",
    "        with open(self.memory_file, \"a\") as f:\n",
    "            f.write(f\"{current_temperature},{action}\\n\")\n",
    "\n",
    "    def act(self, current_temperature):\n",
    "        # Step 1: Check memory\n",
    "        action = self.check_memory(current_temperature)\n",
    "        if action:\n",
    "            return f\"(From Memory) {action}\"\n",
    "\n",
    "        # Step 2: If not in memory, calculate using IF statement\n",
    "        if current_temperature < self.desired_temperature:\n",
    "            action = \"Turn on heater\"\n",
    "        else:\n",
    "            action = \"Turn off heater\"\n",
    "\n",
    "        # Step 3: Update memory with new action\n",
    "        self.update_memory(current_temperature, action)\n",
    "        return f\"(Calculated) {action}\"\n",
    "\n",
    "\n",
    "# Simulating different rooms with different current temperatures\n",
    "rooms = {\n",
    "    \"Living Room\": 18,\n",
    "    \"Bedroom\": 22,\n",
    "    \"Kitchen\": 20,\n",
    "    \"Bathroom\": 24,\n",
    "    \"Garage\": 18  # Duplicate to test memory reuse\n",
    "}\n",
    "\n",
    "desired_temperature = 22\n",
    "agent = ModelBasedReflexAgent(desired_temperature)\n",
    "\n",
    "# Run the agent for each room\n",
    "for room, temperature in rooms.items():\n",
    "    action = agent.act(temperature)\n",
    "    print(f\"{room}: Current temperature = {temperature}°C. {action}.\")"
   ]
  }
 ],
 "metadata": {
  "kernelspec": {
   "display_name": "base",
   "language": "python",
   "name": "python3"
  },
  "language_info": {
   "codemirror_mode": {
    "name": "ipython",
    "version": 3
   },
   "file_extension": ".py",
   "mimetype": "text/x-python",
   "name": "python",
   "nbconvert_exporter": "python",
   "pygments_lexer": "ipython3",
   "version": "3.12.4"
  }
 },
 "nbformat": 4,
 "nbformat_minor": 5
}
