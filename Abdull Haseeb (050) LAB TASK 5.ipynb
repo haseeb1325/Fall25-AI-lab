{
 "cells": [
  {
   "cell_type": "markdown",
   "id": "60b54664",
   "metadata": {},
   "source": [
    "### QUESTION NO 1 ###"
   ]
  },
  {
   "cell_type": "code",
   "execution_count": 4,
   "id": "30f25820",
   "metadata": {},
   "outputs": [
    {
     "name": "stdout",
     "output_type": "stream",
     "text": [
      "DFS Traversal: ['A', 'B', 'D', 'E', 'F', 'C']\n"
     ]
    }
   ],
   "source": [
    "def dfs_with_stack(graph, start):\n",
    "    visited = set()\n",
    "    stack = [start]\n",
    "    result = []\n",
    "\n",
    "    while stack:\n",
    "        node = stack.pop()\n",
    "\n",
    "        if node not in visited:\n",
    "            visited.add(node)\n",
    "            result.append(node)\n",
    "\n",
    "            for neighbor in reversed(graph[node]):\n",
    "                if neighbor not in visited:\n",
    "                    stack.append(neighbor)\n",
    "\n",
    "    return result\n",
    "\n",
    "graph = {\n",
    "    'A': ['B', 'C'],\n",
    "    'B': ['D', 'E'],\n",
    "    'C': ['F'],\n",
    "    'D': [],\n",
    "    'E': ['F'],\n",
    "    'F': []\n",
    "}\n",
    "\n",
    "print(\"DFS Traversal:\", dfs_with_stack(graph, 'A'))\n"
   ]
  },
  {
   "cell_type": "markdown",
   "id": "ed47b5b7",
   "metadata": {},
   "source": [
    "### QUESTION NO 2 ###"
   ]
  },
  {
   "cell_type": "code",
   "execution_count": 6,
   "id": "30d55de7",
   "metadata": {},
   "outputs": [
    {
     "name": "stdout",
     "output_type": "stream",
     "text": [
      "Preorder Traversal:\n",
      "A B D E C F \n",
      "Inorder Traversal:\n",
      "D B E A C F \n",
      "Postorder Traversal:\n",
      "D E B F C A "
     ]
    }
   ],
   "source": [
    "\n",
    "class Node:\n",
    "    def __init__(self, value):\n",
    "        self.value = value\n",
    "        self.left = None\n",
    "        self.right = None\n",
    "\n",
    "def preorder(root):\n",
    "    if root:\n",
    "        print(root.value, end=\" \")\n",
    "        preorder(root.left)\n",
    "        preorder(root.right)\n",
    "\n",
    "def inorder(root):\n",
    "    if root:\n",
    "        inorder(root.left)\n",
    "        print(root.value, end=\" \")\n",
    "        inorder(root.right)\n",
    "\n",
    "def postorder(root):\n",
    "    if root:\n",
    "        postorder(root.left)\n",
    "        postorder(root.right)\n",
    "        print(root.value, end=\" \")\n",
    "\n",
    "root = Node('A')\n",
    "root.left = Node('B')\n",
    "root.right = Node('C')\n",
    "root.left.left = Node('D')\n",
    "root.left.right = Node('E')\n",
    "root.right.right = Node('F')\n",
    "\n",
    "print(\"Preorder Traversal:\")\n",
    "preorder(root)\n",
    "print(\"\\nInorder Traversal:\")\n",
    "inorder(root)\n",
    "print(\"\\nPostorder Traversal:\")\n",
    "postorder(root)\n"
   ]
  }
 ],
 "metadata": {
  "kernelspec": {
   "display_name": "Python 3",
   "language": "python",
   "name": "python3"
  },
  "language_info": {
   "codemirror_mode": {
    "name": "ipython",
    "version": 3
   },
   "file_extension": ".py",
   "mimetype": "text/x-python",
   "name": "python",
   "nbconvert_exporter": "python",
   "pygments_lexer": "ipython3",
   "version": "3.11.9"
  }
 },
 "nbformat": 4,
 "nbformat_minor": 5
}
