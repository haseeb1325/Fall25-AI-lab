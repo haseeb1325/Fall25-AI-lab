{
 "cells": [
  {
   "cell_type": "code",
   "execution_count": 2,
   "id": "66c3e425",
   "metadata": {},
   "outputs": [
    {
     "name": "stdout",
     "output_type": "stream",
     "text": [
      "\n",
      "Average budget = 174187500.0\n",
      "Pirates of the Caribbean: On Stranger Tides budget = 379000000 which is 204812500.0 higher than average\n",
      "Avengers: Age of Ultron budget = 365000000 which is 190812500.0 higher than average\n",
      "Avengers: Endgame budget = 356000000 which is 181812500.0 higher than average\n",
      "Incredibles 2 budget = 200000000 which is 25812500.0 higher than average\n",
      "\n",
      "Total movies above average: 4\n"
     ]
    }
   ],
   "source": [
    "\n",
    "\n",
    "movies = [\n",
    "    (\"Eternal Sunshine of the Spotless Mind\", 20000000),\n",
    "    (\"Memento\", 9000000),\n",
    "    (\"Requiem for a Dream\", 4500000),\n",
    "    (\"Pirates of the Caribbean: On Stranger Tides\", 379000000),\n",
    "    (\"Avengers: Age of Ultron\", 365000000),\n",
    "    (\"Avengers: Endgame\", 356000000),\n",
    "    (\"Incredibles 2\", 200000000)\n",
    "]\n",
    "\n",
    "\n",
    "num = int(input(\"How many movies do you want to add? \"))\n",
    "\n",
    "for i in range(num):\n",
    "    name = input(\"Enter movie name: \")\n",
    "    budget = int(input(\"Enter movie budget: \"))\n",
    "    movies.append((name, budget))\n",
    "\n",
    "\n",
    "total = 0\n",
    "for movie in movies:\n",
    "    total = total + movie[1]\n",
    "\n",
    "average = total / len(movies)\n",
    "print(\"\\nAverage budget =\", average)\n",
    "\n",
    "\n",
    "count = 0\n",
    "for movie in movies:\n",
    "    if movie[1] > average:\n",
    "        diff = movie[1] - average\n",
    "        print(movie[0], \"budget =\", movie[1], \"which is\", diff, \"higher than average\")\n",
    "        count = count + 1\n",
    "\n",
    "print(\"\\nTotal movies above average:\", count)\n"
   ]
  },
  {
   "cell_type": "code",
   "execution_count": 1,
   "id": "55011c79",
   "metadata": {},
   "outputs": [
    {
     "name": "stdout",
     "output_type": "stream",
     "text": [
      "The random number is : 1\n",
      "The correct answer is :  Number\n",
      "And your hidden number is : 1\n",
      "Your final score is: 0\n",
      "Your final score is: 0\n"
     ]
    }
   ],
   "source": [
    "import random\n",
    "\n",
    "def get_answer(num):\n",
    "    if num % 3 == 0 and num % 5 == 0:\n",
    "        return \"fizzbuzz\"\n",
    "    elif num % 3 == 0:\n",
    "        return \"fizz\"\n",
    "    elif num % 5 == 0:\n",
    "        return \"buzz\"\n",
    "    else:\n",
    "        return \"Number\"\n",
    "\n",
    "def play():\n",
    "    backend = 0 \n",
    "    score=0\n",
    "    prev_no=0\n",
    "    while True:\n",
    "        no=random.randint(1, 50)\n",
    "        backend = prev_no+ no\n",
    "        print(\"The random number is :\", no)\n",
    "        guess = input(\"Your guess (fizz/buzz/fizzbuzz/Number): \").strip()\n",
    "        correct = get_answer(backend)\n",
    "        if guess.lower() == correct.lower():\n",
    "            print(\"Correct!\")\n",
    "            score += 1\n",
    "            prev_no = no\n",
    "        else:\n",
    "            print(\"The correct answer is : \", correct)\n",
    "            print(\"And your hidden number is :\", backend)\n",
    "            cont = input(\"Would you like to continue (yes/no): \").strip().lower()\n",
    "            if cont != \"yes\":\n",
    "                print(\"Your final score is:\", score)\n",
    "                score = 0\n",
    "                backend = 0\n",
    "                prev_no = 0\n",
    "                break\n",
    "    print(\"Your final score is:\", score)\n",
    "\n",
    "    \n",
    "play()"
   ]
  }
 ],
 "metadata": {
  "kernelspec": {
   "display_name": "base",
   "language": "python",
   "name": "python3"
  },
  "language_info": {
   "codemirror_mode": {
    "name": "ipython",
    "version": 3
   },
   "file_extension": ".py",
   "mimetype": "text/x-python",
   "name": "python",
   "nbconvert_exporter": "python",
   "pygments_lexer": "ipython3",
   "version": "3.12.4"
  }
 },
 "nbformat": 4,
 "nbformat_minor": 5
}
